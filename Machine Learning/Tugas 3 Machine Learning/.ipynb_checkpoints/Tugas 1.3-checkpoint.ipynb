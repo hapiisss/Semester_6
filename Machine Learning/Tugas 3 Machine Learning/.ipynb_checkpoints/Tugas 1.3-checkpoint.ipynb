{
 "cells": [
  {
   "cell_type": "code",
   "execution_count": 15,
   "metadata": {},
   "outputs": [],
   "source": [
    "import numpy as np\n",
    "import pandas as pd"
   ]
  },
  {
   "cell_type": "markdown",
   "metadata": {},
   "source": [
    "## 1. Load data to csv"
   ]
  },
  {
   "cell_type": "code",
   "execution_count": 20,
   "metadata": {
    "collapsed": true
   },
   "outputs": [
    {
     "name": "stdout",
     "output_type": "stream",
     "text": [
      "         att1      att2      att3  label\n",
      "0    1.026777 -3.279030 -0.883644      2\n",
      "1    1.628673 -3.215970 -3.151889      2\n",
      "2    0.923110  0.185698 -3.081089      2\n",
      "3    1.210612  0.291462 -2.449537      2\n",
      "4    2.544333  1.333560  2.078647      0\n",
      "5   -0.505071  1.875051  3.537703      2\n",
      "6    2.568030  1.993095  1.384366      0\n",
      "7    1.145914 -3.007590 -1.695142      2\n",
      "8   -2.642700  2.619429  1.057048      1\n",
      "9    2.967126  0.940226  2.333582      0\n",
      "10   1.241284  1.923449  1.571323      0\n",
      "11  -0.440388  1.470366  3.067793      1\n",
      "12   3.222067  2.810043  3.331670      0\n",
      "13   2.378012  1.866489  2.025627      0\n",
      "14   2.401919 -2.380048 -2.996957      2\n",
      "15   2.649838 -3.573183 -1.532058      2\n",
      "16   1.641112 -3.034926 -0.342372      2\n",
      "17   3.312124  2.788081  2.179585      0\n",
      "18   3.327532 -2.923872 -2.645522      2\n",
      "19   2.956635  1.667679  1.862775      0\n",
      "20  -0.953621  1.647064  2.118886      1\n",
      "21  -1.530916  1.984400  1.753702      1\n",
      "22   1.359711 -2.253716 -1.901888      2\n",
      "23  -0.848654  0.817316  1.885271      1\n",
      "24  -2.166917  1.811702  1.063153      1\n",
      "25   2.156765 -1.391735 -0.260996      2\n",
      "26  -2.595403  3.311696  2.503186      1\n",
      "27  -1.880744  2.230180  2.110486      2\n",
      "28  -2.422740  4.105229  3.208465      1\n",
      "29  -1.239067  1.688796  2.330463      2\n",
      "..        ...       ...       ...    ...\n",
      "120  1.875731 -3.084099 -1.580054      2\n",
      "121  2.216932 -1.349832 -1.726862      2\n",
      "122  2.647944 -2.463312 -1.398755      2\n",
      "123 -0.552459  0.362882  3.034341      0\n",
      "124  3.195660 -2.374259 -1.155505      2\n",
      "125  3.372440 -3.382945 -1.788379      2\n",
      "126  2.475420 -2.115729 -1.322991      2\n",
      "127  4.164886  3.144925  2.870169      0\n",
      "128  1.332856  1.886046  1.593446      0\n",
      "129  1.725882 -2.975071 -1.933716      2\n",
      "130  2.509963  0.271600  2.641720      1\n",
      "131 -1.418637  1.986631  2.068231      1\n",
      "132 -1.493641  2.126250  2.921803      1\n",
      "133  3.446548 -2.207344 -0.078095      2\n",
      "134 -1.845881  2.277819  2.461125      1\n",
      "135  2.324591 -2.811614 -1.862856      2\n",
      "136 -1.993192  2.417399  1.596729      1\n",
      "137  2.494531  3.746201  3.065885      0\n",
      "138 -3.687674  2.983932  2.046969      1\n",
      "139 -0.881789  1.751633  2.783774      1\n",
      "140  1.273901  3.194224  1.588173      2\n",
      "141 -2.326482  2.879856  1.918376      1\n",
      "142  0.000186  1.405577  0.451572      0\n",
      "143  1.708787 -0.749965  0.254499      2\n",
      "144  1.664034  2.577606  1.471001      0\n",
      "145  2.428942 -2.031467 -0.035887      2\n",
      "146  0.516294  2.205906  1.793810      0\n",
      "147 -0.212367 -0.249616 -0.578701      2\n",
      "148  1.332890  1.071313  1.394183      0\n",
      "149  1.556651 -2.433995 -2.344159      2\n",
      "\n",
      "[150 rows x 4 columns]\n"
     ]
    }
   ],
   "source": [
    "datas = pd.read_csv('data_train_PNN.txt', delimiter = \"\\t\")\n",
    "print (datas)"
   ]
  },
  {
   "cell_type": "markdown",
   "metadata": {},
   "source": [
    "## 2. Plot the data"
   ]
  },
  {
   "cell_type": "code",
   "execution_count": 21,
   "metadata": {
    "collapsed": true
   },
   "outputs": [],
   "source": [
    "import matplotlib.pyplot as plt\n",
    "\n",
    "import pandas as pd\n",
    "from pandas import DataFrame\n",
    "import matplotlib.pyplot as plt\n",
    "from mpl_toolkits.mplot3d import Axes3D\n",
    "\n",
    "df = pd.read_csv('sp500_ohlc.csv', parse_dates=True)\n",
    "print(df.head())\n",
    "df['H-L'] = df.High - df.Low\n",
    "df['100MA'] = pd.rolling_mean(df['Close'], 100)"
   ]
  },
  {
   "cell_type": "code",
   "execution_count": null,
   "metadata": {
    "collapsed": true
   },
   "outputs": [],
   "source": [
    "threedee = plt.figure().gca(projection='3d')\n",
    "threedee.scatter(df.index, df['H-L'], df['Close'])\n",
    "threedee.set_xlabel('Index')\n",
    "threedee.set_ylabel('H-L')\n",
    "threedee.set_zlabel('Close')\n",
    "plt.show()"
   ]
  },
  {
   "cell_type": "code",
   "execution_count": null,
   "metadata": {
    "collapsed": true
   },
   "outputs": [],
   "source": [
    "\n",
    "\n",
    "threedee = plt.figure().gca(projection='3d')\n",
    "threedee.scatter(df.index, df['H-L'], df['Volume'])\n",
    "threedee.set_xlabel('Index')\n",
    "threedee.set_ylabel('H-L')\n",
    "threedee.set_zlabel('Volume')\n",
    "plt.show()"
   ]
  }
 ],
 "metadata": {
  "kernelspec": {
   "display_name": "Python 3",
   "language": "python",
   "name": "python3"
  },
  "language_info": {
   "codemirror_mode": {
    "name": "ipython",
    "version": 3
   },
   "file_extension": ".py",
   "mimetype": "text/x-python",
   "name": "python",
   "nbconvert_exporter": "python",
   "pygments_lexer": "ipython3",
   "version": "3.6.3"
  }
 },
 "nbformat": 4,
 "nbformat_minor": 2
}
